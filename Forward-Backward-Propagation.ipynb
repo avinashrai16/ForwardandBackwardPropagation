{
  "metadata": {
    "kernelspec": {
      "name": "python",
      "display_name": "Python (Pyodide)",
      "language": "python"
    },
    "language_info": {
      "codemirror_mode": {
        "name": "python",
        "version": 3
      },
      "file_extension": ".py",
      "mimetype": "text/x-python",
      "name": "python",
      "nbconvert_exporter": "python",
      "pygments_lexer": "ipython3",
      "version": "3.8"
    }
  },
  "nbformat_minor": 4,
  "nbformat": 4,
  "cells": [
    {
      "cell_type": "code",
      "source": "import numpy as np\n\n# Define the activation functions and their derivatives\ndef sigmoid(x):\n    return 1 / (1 + np.exp(-x))\n\ndef sigmoid_derivative(x):\n    return x * (1 - x)\n\ndef relu(x):\n    return np.maximum(0, x)\n\ndef relu_derivative(x):\n    return np.where(x > 0, 1, 0)\n\n# Set up the network parameters\ninput_size = 3    # Number of input features\nhidden_size = 4   # Number of neurons in the hidden layer\noutput_size = 1   # Number of output neurons\n\n# Initialize weights and biases with random values\nnp.random.seed(42)\n\n# Weights for input to hidden layer (input_size x hidden_size)\nW1 = np.random.randn(input_size, hidden_size)\nb1 = np.zeros((1, hidden_size))  # Bias for hidden layer\n\n# Weights for hidden to output layer (hidden_size x output_size)\nW2 = np.random.randn(hidden_size, output_size)\nb2 = np.zeros((1, output_size))  # Bias for output layer\n\n# Define the input data (e.g., 4 examples with 3 features)\nX = np.array([[0.1, 0.2, 0.3],\n              [0.4, 0.5, 0.6],\n              [0.7, 0.8, 0.9],\n              [0.9, 0.8, 0.7]])\n\n# Step 1: Forward Propagation\n\n# Input to hidden layer\nZ1 = np.dot(X, W1) + b1  # Weighted sum for hidden layer\nA1 = relu(Z1)             # Apply ReLU activation function\n\n# Hidden to output layer\nZ2 = np.dot(A1, W2) + b2  # Weighted sum for output layer\nA2 = sigmoid(Z2)           # Apply Sigmoid activation function\n\n# A2 is the output of the network\nprint(\"Output of the network:\")\nprint(A2)\n",
      "metadata": {
        "trusted": true
      },
      "outputs": [
        {
          "name": "stdout",
          "text": "Output of the network:\n[[0.33060082]\n [0.11675712]\n [0.0341733 ]\n [0.02441159]]\n",
          "output_type": "stream"
        }
      ],
      "execution_count": 1
    },
    {
      "cell_type": "code",
      "source": "",
      "metadata": {
        "trusted": true
      },
      "outputs": [],
      "execution_count": null
    }
  ]
}